{
 "cells": [
  {
   "cell_type": "code",
   "execution_count": 10,
   "metadata": {},
   "outputs": [
    {
     "name": "stdout",
     "output_type": "stream",
     "text": [
      "Collecting scikit-surpriseNote: you may need to restart the kernel to use updated packages.\n",
      "\n",
      "  Using cached scikit-surprise-1.1.3.tar.gz (771 kB)\n",
      "  Preparing metadata (setup.py): started\n",
      "  Preparing metadata (setup.py): finished with status 'done'\n",
      "Requirement already satisfied: joblib>=1.0.0 in c:\\users\\yesen\\desktop\\henry\\from_henry\\pi_ml_ops\\env\\lib\\site-packages (from scikit-surprise) (1.2.0)\n",
      "Requirement already satisfied: numpy>=1.17.3 in c:\\users\\yesen\\desktop\\henry\\from_henry\\pi_ml_ops\\env\\lib\\site-packages (from scikit-surprise) (1.24.2)\n",
      "Requirement already satisfied: scipy>=1.3.2 in c:\\users\\yesen\\desktop\\henry\\from_henry\\pi_ml_ops\\env\\lib\\site-packages (from scikit-surprise) (1.10.1)\n",
      "Installing collected packages: scikit-surprise\n",
      "  Running setup.py install for scikit-surprise: started\n",
      "  Running setup.py install for scikit-surprise: still running...\n",
      "  Running setup.py install for scikit-surprise: still running...\n",
      "  Running setup.py install for scikit-surprise: still running...\n",
      "  Running setup.py install for scikit-surprise: finished with status 'done'\n",
      "Successfully installed scikit-surprise-1.1.3\n"
     ]
    },
    {
     "name": "stderr",
     "output_type": "stream",
     "text": [
      "  DEPRECATION: scikit-surprise is being installed using the legacy 'setup.py install' method, because it does not have a 'pyproject.toml' and the 'wheel' package is not installed. pip 23.1 will enforce this behaviour change. A possible replacement is to enable the '--use-pep517' option. Discussion can be found at https://github.com/pypa/pip/issues/8559\n"
     ]
    },
    {
     "name": "stdout",
     "output_type": "stream",
     "text": [
      "Note: you may need to restart the kernel to use updated packages.\n"
     ]
    },
    {
     "name": "stderr",
     "output_type": "stream",
     "text": [
      "ERROR: unknown command \"install gradio\" - maybe you meant \"install\"\n",
      "\n"
     ]
    }
   ],
   "source": [
    "%pip install scikit-surprise"
   ]
  },
  {
   "cell_type": "code",
   "execution_count": 13,
   "metadata": {},
   "outputs": [
    {
     "name": "stdout",
     "output_type": "stream",
     "text": [
      "Collecting gradioNote: you may need to restart the kernel to use updated packages.\n"
     ]
    },
    {
     "name": "stderr",
     "output_type": "stream",
     "text": [
      "  DEPRECATION: ffmpy is being installed using the legacy 'setup.py install' method, because it does not have a 'pyproject.toml' and the 'wheel' package is not installed. pip 23.1 will enforce this behaviour change. A possible replacement is to enable the '--use-pep517' option. Discussion can be found at https://github.com/pypa/pip/issues/8559\n"
     ]
    },
    {
     "name": "stdout",
     "output_type": "stream",
     "text": [
      "\n",
      "  Downloading gradio-3.22.1-py3-none-any.whl (15.8 MB)\n",
      "     ---------------------------------------- 0.0/15.8 MB ? eta -:--:--\n",
      "     ---------------------------------------- 0.1/15.8 MB 1.7 MB/s eta 0:00:09\n",
      "      --------------------------------------- 0.3/15.8 MB 2.3 MB/s eta 0:00:07\n",
      "     ---- ----------------------------------- 1.6/15.8 MB 3.8 MB/s eta 0:00:04\n",
      "     ---- ----------------------------------- 1.7/15.8 MB 2.5 MB/s eta 0:00:06\n",
      "     ---- ----------------------------------- 1.9/15.8 MB 2.1 MB/s eta 0:00:07\n",
      "     ----- ---------------------------------- 2.0/15.8 MB 2.1 MB/s eta 0:00:07\n",
      "     ----- ---------------------------------- 2.3/15.8 MB 1.9 MB/s eta 0:00:08\n",
      "     ------ --------------------------------- 2.6/15.8 MB 1.9 MB/s eta 0:00:08\n",
      "     ------- -------------------------------- 2.9/15.8 MB 1.8 MB/s eta 0:00:08\n",
      "     -------- ------------------------------- 3.4/15.8 MB 2.0 MB/s eta 0:00:07\n",
      "     --------- ------------------------------ 3.8/15.8 MB 2.2 MB/s eta 0:00:06\n",
      "     ---------- ----------------------------- 4.3/15.8 MB 2.4 MB/s eta 0:00:05\n",
      "     ----------- ---------------------------- 4.7/15.8 MB 2.5 MB/s eta 0:00:05\n",
      "     ------------ --------------------------- 4.9/15.8 MB 2.6 MB/s eta 0:00:05\n",
      "     ------------- -------------------------- 5.4/15.8 MB 2.6 MB/s eta 0:00:04\n",
      "     ---------------- ----------------------- 6.3/15.8 MB 2.6 MB/s eta 0:00:04\n",
      "     ---------------- ----------------------- 6.4/15.8 MB 2.5 MB/s eta 0:00:04\n",
      "     ----------------- ---------------------- 7.1/15.8 MB 2.6 MB/s eta 0:00:04\n",
      "     ------------------- -------------------- 7.9/15.8 MB 2.9 MB/s eta 0:00:03\n",
      "     ---------------------- ----------------- 8.8/15.8 MB 3.1 MB/s eta 0:00:03\n",
      "     ------------------------- -------------- 10.0/15.8 MB 3.3 MB/s eta 0:00:02\n",
      "     ------------------------- -------------- 10.0/15.8 MB 3.1 MB/s eta 0:00:02\n",
      "     -------------------------- ------------- 10.6/15.8 MB 3.1 MB/s eta 0:00:02\n",
      "     --------------------------- ------------ 10.9/15.8 MB 3.2 MB/s eta 0:00:02\n",
      "     ---------------------------- ----------- 11.4/15.8 MB 3.2 MB/s eta 0:00:02\n",
      "     ----------------------------- ---------- 11.8/15.8 MB 3.2 MB/s eta 0:00:02\n",
      "     ------------------------------- -------- 12.5/15.8 MB 4.1 MB/s eta 0:00:01\n",
      "     -------------------------------- ------- 13.0/15.8 MB 4.5 MB/s eta 0:00:01\n",
      "     --------------------------------- ------ 13.3/15.8 MB 4.8 MB/s eta 0:00:01\n",
      "     ----------------------------------- ---- 13.8/15.8 MB 4.8 MB/s eta 0:00:01\n",
      "     ------------------------------------ --- 14.4/15.8 MB 4.8 MB/s eta 0:00:01\n",
      "     -------------------------------------- - 15.0/15.8 MB 4.8 MB/s eta 0:00:01\n",
      "     ---------------------------------------  15.7/15.8 MB 5.2 MB/s eta 0:00:01\n",
      "     ---------------------------------------  15.8/15.8 MB 5.3 MB/s eta 0:00:01\n",
      "     ---------------------------------------  15.8/15.8 MB 5.3 MB/s eta 0:00:01\n",
      "     ---------------------------------------  15.8/15.8 MB 5.3 MB/s eta 0:00:01\n",
      "     ---------------------------------------  15.8/15.8 MB 5.3 MB/s eta 0:00:01\n",
      "     ---------------------------------------  15.8/15.8 MB 5.3 MB/s eta 0:00:01\n",
      "     ---------------------------------------  15.8/15.8 MB 5.3 MB/s eta 0:00:01\n",
      "     ---------------------------------------  15.8/15.8 MB 5.3 MB/s eta 0:00:01\n",
      "     ---------------------------------------- 15.8/15.8 MB 4.2 MB/s eta 0:00:00\n",
      "Collecting aiofiles\n",
      "  Downloading aiofiles-23.1.0-py3-none-any.whl (14 kB)\n",
      "Collecting aiohttp\n",
      "  Downloading aiohttp-3.8.4-cp311-cp311-win_amd64.whl (317 kB)\n",
      "     ---------------------------------------- 0.0/317.2 kB ? eta -:--:--\n",
      "     ----------------------------------- - 307.2/317.2 kB 18.6 MB/s eta 0:00:01\n",
      "     -------------------------------------- 317.2/317.2 kB 3.9 MB/s eta 0:00:00\n",
      "Collecting altair>=4.2.0\n",
      "  Downloading altair-4.2.2-py3-none-any.whl (813 kB)\n",
      "     ---------------------------------------- 0.0/813.6 kB ? eta -:--:--\n",
      "     --------------------------------- ---- 716.8/813.6 kB 6.5 MB/s eta 0:00:01\n",
      "     -------------------------------------  809.0/813.6 kB 5.7 MB/s eta 0:00:01\n",
      "     -------------------------------------  809.0/813.6 kB 5.7 MB/s eta 0:00:01\n",
      "     -------------------------------------  809.0/813.6 kB 5.7 MB/s eta 0:00:01\n",
      "     -------------------------------------- 813.6/813.6 kB 2.7 MB/s eta 0:00:00\n",
      "Collecting fastapi\n",
      "  Using cached fastapi-0.95.0-py3-none-any.whl (57 kB)\n",
      "Collecting ffmpy\n",
      "  Downloading ffmpy-0.3.0.tar.gz (4.8 kB)\n",
      "  Preparing metadata (setup.py): started\n",
      "  Preparing metadata (setup.py): finished with status 'done'\n",
      "Collecting fsspec\n",
      "  Downloading fsspec-2023.3.0-py3-none-any.whl (145 kB)\n",
      "     ---------------------------------------- 0.0/145.4 kB ? eta -:--:--\n",
      "     ---------------------------------------  143.4/145.4 kB ? eta -:--:--\n",
      "     -------------------------------------- 145.4/145.4 kB 2.1 MB/s eta 0:00:00\n",
      "Collecting httpx\n",
      "  Downloading httpx-0.23.3-py3-none-any.whl (71 kB)\n",
      "     ---------------------------------------- 0.0/71.5 kB ? eta -:--:--\n",
      "     ---------------------------------- ----- 61.4/71.5 kB ? eta -:--:--\n",
      "     -------------------------------------- 71.5/71.5 kB 987.6 kB/s eta 0:00:00\n",
      "Collecting huggingface-hub>=0.13.0\n",
      "  Downloading huggingface_hub-0.13.3-py3-none-any.whl (199 kB)\n",
      "     ---------------------------------------- 0.0/199.8 kB ? eta -:--:--\n",
      "     ------------------------------------  194.6/199.8 kB 11.5 MB/s eta 0:00:01\n",
      "     -------------------------------------- 199.8/199.8 kB 2.4 MB/s eta 0:00:00\n",
      "Collecting jinja2\n",
      "  Using cached Jinja2-3.1.2-py3-none-any.whl (133 kB)\n",
      "Collecting markdown-it-py[linkify]>=2.0.0\n",
      "  Downloading markdown_it_py-2.2.0-py3-none-any.whl (84 kB)\n",
      "     ---------------------------------------- 0.0/84.5 kB ? eta -:--:--\n",
      "     -------------------------------------- - 81.9/84.5 kB 4.5 MB/s eta 0:00:01\n",
      "     ---------------------------------------- 84.5/84.5 kB 1.2 MB/s eta 0:00:00\n",
      "Collecting markupsafe\n",
      "  Downloading MarkupSafe-2.1.2-cp311-cp311-win_amd64.whl (16 kB)\n",
      "Requirement already satisfied: matplotlib in c:\\users\\yesen\\desktop\\henry\\from_henry\\pi_ml_ops\\env\\lib\\site-packages (from gradio) (3.7.1)\n",
      "Collecting mdit-py-plugins<=0.3.3\n",
      "  Downloading mdit_py_plugins-0.3.3-py3-none-any.whl (50 kB)\n",
      "     ---------------------------------------- 0.0/50.5 kB ? eta -:--:--\n",
      "     -------------------------------------- 50.5/50.5 kB 856.1 kB/s eta 0:00:00\n",
      "Requirement already satisfied: numpy in c:\\users\\yesen\\desktop\\henry\\from_henry\\pi_ml_ops\\env\\lib\\site-packages (from gradio) (1.24.2)\n",
      "Collecting orjson\n",
      "  Downloading orjson-3.8.8-cp311-none-win_amd64.whl (204 kB)\n",
      "     ---------------------------------------- 0.0/205.0 kB ? eta -:--:--\n",
      "     ------------------------------------  204.8/205.0 kB 13.0 MB/s eta 0:00:01\n",
      "     ------------------------------------  204.8/205.0 kB 13.0 MB/s eta 0:00:01\n",
      "     -------------------------------------- 205.0/205.0 kB 1.4 MB/s eta 0:00:00\n",
      "Requirement already satisfied: pandas in c:\\users\\yesen\\desktop\\henry\\from_henry\\pi_ml_ops\\env\\lib\\site-packages (from gradio) (1.5.3)\n",
      "Requirement already satisfied: pillow in c:\\users\\yesen\\desktop\\henry\\from_henry\\pi_ml_ops\\env\\lib\\site-packages (from gradio) (9.4.0)\n",
      "Collecting pydantic\n",
      "  Using cached pydantic-1.10.6-cp311-cp311-win_amd64.whl (2.1 MB)\n",
      "Collecting pydub\n",
      "  Downloading pydub-0.25.1-py2.py3-none-any.whl (32 kB)\n",
      "Collecting python-multipart\n",
      "  Downloading python_multipart-0.0.6-py3-none-any.whl (45 kB)\n",
      "     ---------------------------------------- 0.0/45.7 kB ? eta -:--:--\n",
      "     ---------------------------------------- 45.7/45.7 kB 1.1 MB/s eta 0:00:00\n",
      "Collecting pyyaml\n",
      "  Using cached PyYAML-6.0-cp311-cp311-win_amd64.whl (143 kB)\n",
      "Collecting requests\n",
      "  Downloading requests-2.28.2-py3-none-any.whl (62 kB)\n",
      "     ---------------------------------------- 0.0/62.8 kB ? eta -:--:--\n",
      "     ---------------------------------------- 62.8/62.8 kB 1.1 MB/s eta 0:00:00\n",
      "Collecting typing-extensions\n",
      "  Using cached typing_extensions-4.5.0-py3-none-any.whl (27 kB)\n",
      "Collecting uvicorn\n",
      "  Using cached uvicorn-0.21.1-py3-none-any.whl (57 kB)\n",
      "Collecting websockets>=10.0\n",
      "  Using cached websockets-10.4-cp311-cp311-win_amd64.whl (101 kB)\n",
      "Collecting entrypoints\n",
      "  Using cached entrypoints-0.4-py3-none-any.whl (5.3 kB)\n",
      "Collecting jsonschema>=3.0\n",
      "  Downloading jsonschema-4.17.3-py3-none-any.whl (90 kB)\n",
      "     ---------------------------------------- 0.0/90.4 kB ? eta -:--:--\n",
      "     ---------------------------------------- 90.4/90.4 kB 1.3 MB/s eta 0:00:00\n",
      "Collecting toolz\n",
      "  Downloading toolz-0.12.0-py3-none-any.whl (55 kB)\n",
      "     ---------------------------------------- 0.0/55.8 kB ? eta -:--:--\n",
      "     ------------------------------------ --- 51.2/55.8 kB ? eta -:--:--\n",
      "     -------------------------------------- 55.8/55.8 kB 991.2 kB/s eta 0:00:00\n",
      "Collecting filelock\n",
      "  Downloading filelock-3.10.0-py3-none-any.whl (9.9 kB)\n",
      "Collecting tqdm>=4.42.1\n",
      "  Downloading tqdm-4.65.0-py3-none-any.whl (77 kB)\n",
      "     ---------------------------------------- 0.0/77.1 kB ? eta -:--:--\n",
      "     ------------------------------------- -- 71.7/77.1 kB 3.8 MB/s eta 0:00:01\n",
      "     -------------------------------------- 77.1/77.1 kB 857.1 kB/s eta 0:00:00\n",
      "Requirement already satisfied: packaging>=20.9 in c:\\users\\yesen\\desktop\\henry\\from_henry\\pi_ml_ops\\env\\lib\\site-packages (from huggingface-hub>=0.13.0->gradio) (23.0)\n",
      "Collecting mdurl~=0.1\n",
      "  Downloading mdurl-0.1.2-py3-none-any.whl (10.0 kB)\n",
      "Collecting linkify-it-py<3,>=1\n",
      "  Downloading linkify_it_py-2.0.0-py3-none-any.whl (19 kB)\n",
      "Requirement already satisfied: python-dateutil>=2.8.1 in c:\\users\\yesen\\desktop\\henry\\from_henry\\pi_ml_ops\\env\\lib\\site-packages (from pandas->gradio) (2.8.2)\n",
      "Requirement already satisfied: pytz>=2020.1 in c:\\users\\yesen\\desktop\\henry\\from_henry\\pi_ml_ops\\env\\lib\\site-packages (from pandas->gradio) (2022.7.1)\n",
      "Collecting attrs>=17.3.0\n",
      "  Downloading attrs-22.2.0-py3-none-any.whl (60 kB)\n",
      "     ---------------------------------------- 0.0/60.0 kB ? eta -:--:--\n",
      "     ---------------------------------- ----- 51.2/60.0 kB ? eta -:--:--\n",
      "     -------------------------------------- 60.0/60.0 kB 790.1 kB/s eta 0:00:00\n",
      "Collecting charset-normalizer<4.0,>=2.0\n",
      "  Downloading charset_normalizer-3.1.0-cp311-cp311-win_amd64.whl (96 kB)\n",
      "     ---------------------------------------- 0.0/96.7 kB ? eta -:--:--\n",
      "     -------------------------------------- - 92.2/96.7 kB 5.1 MB/s eta 0:00:01\n",
      "     -------------------------------------- - 92.2/96.7 kB 5.1 MB/s eta 0:00:01\n",
      "     -------------------------------------- 96.7/96.7 kB 691.6 kB/s eta 0:00:00\n",
      "Collecting multidict<7.0,>=4.5\n",
      "  Downloading multidict-6.0.4-cp311-cp311-win_amd64.whl (28 kB)\n",
      "Collecting async-timeout<5.0,>=4.0.0a3\n",
      "  Downloading async_timeout-4.0.2-py3-none-any.whl (5.8 kB)\n",
      "Collecting yarl<2.0,>=1.0\n",
      "  Downloading yarl-1.8.2-cp311-cp311-win_amd64.whl (55 kB)\n",
      "     ---------------------------------------- 0.0/55.3 kB ? eta -:--:--\n",
      "     ------------------------------------- -- 51.2/55.3 kB ? eta -:--:--\n",
      "     ------------------------------------- -- 51.2/55.3 kB ? eta -:--:--\n",
      "     -------------------------------------- 55.3/55.3 kB 322.0 kB/s eta 0:00:00\n",
      "Collecting frozenlist>=1.1.1\n",
      "  Downloading frozenlist-1.3.3-cp311-cp311-win_amd64.whl (32 kB)\n",
      "Collecting aiosignal>=1.1.2\n",
      "  Downloading aiosignal-1.3.1-py3-none-any.whl (7.6 kB)\n",
      "Collecting starlette<0.27.0,>=0.26.1\n",
      "  Using cached starlette-0.26.1-py3-none-any.whl (66 kB)\n",
      "Collecting certifi\n",
      "  Downloading certifi-2022.12.7-py3-none-any.whl (155 kB)\n",
      "     ---------------------------------------- 0.0/155.3 kB ? eta -:--:--\n",
      "     -------------------------------------  153.6/155.3 kB 9.6 MB/s eta 0:00:01\n",
      "     -------------------------------------- 155.3/155.3 kB 1.9 MB/s eta 0:00:00\n",
      "Collecting httpcore<0.17.0,>=0.15.0\n",
      "  Downloading httpcore-0.16.3-py3-none-any.whl (69 kB)\n",
      "     ---------------------------------------- 0.0/69.6 kB ? eta -:--:--\n",
      "     ----------------------------------- ---- 61.4/69.6 kB 3.4 MB/s eta 0:00:01\n",
      "     ----------------------------------- ---- 61.4/69.6 kB 3.4 MB/s eta 0:00:01\n",
      "     -------------------------------------- 69.6/69.6 kB 423.7 kB/s eta 0:00:00\n",
      "Collecting rfc3986[idna2008]<2,>=1.3\n",
      "  Downloading rfc3986-1.5.0-py2.py3-none-any.whl (31 kB)\n",
      "Collecting sniffio\n",
      "  Using cached sniffio-1.3.0-py3-none-any.whl (10 kB)\n",
      "Requirement already satisfied: contourpy>=1.0.1 in c:\\users\\yesen\\desktop\\henry\\from_henry\\pi_ml_ops\\env\\lib\\site-packages (from matplotlib->gradio) (1.0.7)\n",
      "Requirement already satisfied: cycler>=0.10 in c:\\users\\yesen\\desktop\\henry\\from_henry\\pi_ml_ops\\env\\lib\\site-packages (from matplotlib->gradio) (0.11.0)\n",
      "Requirement already satisfied: fonttools>=4.22.0 in c:\\users\\yesen\\desktop\\henry\\from_henry\\pi_ml_ops\\env\\lib\\site-packages (from matplotlib->gradio) (4.39.2)\n",
      "Requirement already satisfied: kiwisolver>=1.0.1 in c:\\users\\yesen\\desktop\\henry\\from_henry\\pi_ml_ops\\env\\lib\\site-packages (from matplotlib->gradio) (1.4.4)\n",
      "Requirement already satisfied: pyparsing>=2.3.1 in c:\\users\\yesen\\desktop\\henry\\from_henry\\pi_ml_ops\\env\\lib\\site-packages (from matplotlib->gradio) (3.0.9)\n",
      "Collecting idna<4,>=2.5\n",
      "  Using cached idna-3.4-py3-none-any.whl (61 kB)\n",
      "Collecting urllib3<1.27,>=1.21.1\n",
      "  Downloading urllib3-1.26.15-py2.py3-none-any.whl (140 kB)\n",
      "     ---------------------------------------- 0.0/140.9 kB ? eta -:--:--\n",
      "     ------------------------------------- -- 133.1/140.9 kB ? eta -:--:--\n",
      "     -------------------------------------- 140.9/140.9 kB 1.2 MB/s eta 0:00:00\n",
      "Collecting click>=7.0\n",
      "  Using cached click-8.1.3-py3-none-any.whl (96 kB)\n",
      "Collecting h11>=0.8\n",
      "  Using cached h11-0.14.0-py3-none-any.whl (58 kB)\n",
      "Requirement already satisfied: colorama in c:\\users\\yesen\\desktop\\henry\\from_henry\\pi_ml_ops\\env\\lib\\site-packages (from click>=7.0->uvicorn->gradio) (0.4.6)\n",
      "Collecting anyio<5.0,>=3.0\n",
      "  Using cached anyio-3.6.2-py3-none-any.whl (80 kB)\n",
      "Collecting pyrsistent!=0.17.0,!=0.17.1,!=0.17.2,>=0.14.0\n",
      "  Downloading pyrsistent-0.19.3-cp311-cp311-win_amd64.whl (62 kB)\n",
      "     ---------------------------------------- 0.0/62.7 kB ? eta -:--:--\n",
      "     ---------------------------------------  61.4/62.7 kB ? eta -:--:--\n",
      "     ---------------------------------------  61.4/62.7 kB ? eta -:--:--\n",
      "     -------------------------------------- 62.7/62.7 kB 564.2 kB/s eta 0:00:00\n",
      "Collecting uc-micro-py\n",
      "  Downloading uc_micro_py-1.0.1-py3-none-any.whl (6.2 kB)\n",
      "Requirement already satisfied: six>=1.5 in c:\\users\\yesen\\desktop\\henry\\from_henry\\pi_ml_ops\\env\\lib\\site-packages (from python-dateutil>=2.8.1->pandas->gradio) (1.16.0)\n",
      "Installing collected packages: rfc3986, pydub, ffmpy, websockets, urllib3, uc-micro-py, typing-extensions, tqdm, toolz, sniffio, pyyaml, python-multipart, pyrsistent, orjson, multidict, mdurl, markupsafe, idna, h11, fsspec, frozenlist, filelock, entrypoints, click, charset-normalizer, certifi, attrs, async-timeout, aiofiles, yarl, uvicorn, requests, pydantic, markdown-it-py, linkify-it-py, jsonschema, jinja2, anyio, aiosignal, starlette, mdit-py-plugins, huggingface-hub, httpcore, altair, aiohttp, httpx, fastapi, gradio\n",
      "  Running setup.py install for ffmpy: started\n",
      "  Running setup.py install for ffmpy: finished with status 'done'\n",
      "Successfully installed aiofiles-23.1.0 aiohttp-3.8.4 aiosignal-1.3.1 altair-4.2.2 anyio-3.6.2 async-timeout-4.0.2 attrs-22.2.0 certifi-2022.12.7 charset-normalizer-3.1.0 click-8.1.3 entrypoints-0.4 fastapi-0.95.0 ffmpy-0.3.0 filelock-3.10.0 frozenlist-1.3.3 fsspec-2023.3.0 gradio-3.22.1 h11-0.14.0 httpcore-0.16.3 httpx-0.23.3 huggingface-hub-0.13.3 idna-3.4 jinja2-3.1.2 jsonschema-4.17.3 linkify-it-py-2.0.0 markdown-it-py-2.2.0 markupsafe-2.1.2 mdit-py-plugins-0.3.3 mdurl-0.1.2 multidict-6.0.4 orjson-3.8.8 pydantic-1.10.6 pydub-0.25.1 pyrsistent-0.19.3 python-multipart-0.0.6 pyyaml-6.0 requests-2.28.2 rfc3986-1.5.0 sniffio-1.3.0 starlette-0.26.1 toolz-0.12.0 tqdm-4.65.0 typing-extensions-4.5.0 uc-micro-py-1.0.1 urllib3-1.26.15 uvicorn-0.21.1 websockets-10.4 yarl-1.8.2\n"
     ]
    }
   ],
   "source": [
    "%pip install gradio"
   ]
  },
  {
   "cell_type": "code",
   "execution_count": 2,
   "metadata": {},
   "outputs": [],
   "source": [
    "import pandas as pd\n",
    "import missingno as msno"
   ]
  },
  {
   "cell_type": "code",
   "execution_count": 3,
   "metadata": {},
   "outputs": [
    {
     "data": {
      "text/html": [
       "<div>\n",
       "<style scoped>\n",
       "    .dataframe tbody tr th:only-of-type {\n",
       "        vertical-align: middle;\n",
       "    }\n",
       "\n",
       "    .dataframe tbody tr th {\n",
       "        vertical-align: top;\n",
       "    }\n",
       "\n",
       "    .dataframe thead th {\n",
       "        text-align: right;\n",
       "    }\n",
       "</style>\n",
       "<table border=\"1\" class=\"dataframe\">\n",
       "  <thead>\n",
       "    <tr style=\"text-align: right;\">\n",
       "      <th></th>\n",
       "      <th>Unnamed: 0</th>\n",
       "      <th>id</th>\n",
       "      <th>duration_int</th>\n",
       "      <th>duration_type</th>\n",
       "      <th>platform</th>\n",
       "      <th>rating</th>\n",
       "      <th>type</th>\n",
       "      <th>release_year</th>\n",
       "      <th>movieId</th>\n",
       "      <th>userId</th>\n",
       "      <th>score</th>\n",
       "    </tr>\n",
       "  </thead>\n",
       "  <tbody>\n",
       "    <tr>\n",
       "      <th>0</th>\n",
       "      <td>0</td>\n",
       "      <td>as1</td>\n",
       "      <td>113.0</td>\n",
       "      <td>min</td>\n",
       "      <td>amazon</td>\n",
       "      <td>g</td>\n",
       "      <td>movie</td>\n",
       "      <td>2014</td>\n",
       "      <td>as1</td>\n",
       "      <td>543</td>\n",
       "      <td>5.0</td>\n",
       "    </tr>\n",
       "    <tr>\n",
       "      <th>1</th>\n",
       "      <td>1</td>\n",
       "      <td>as1</td>\n",
       "      <td>113.0</td>\n",
       "      <td>min</td>\n",
       "      <td>amazon</td>\n",
       "      <td>g</td>\n",
       "      <td>movie</td>\n",
       "      <td>2014</td>\n",
       "      <td>as1</td>\n",
       "      <td>595</td>\n",
       "      <td>3.0</td>\n",
       "    </tr>\n",
       "    <tr>\n",
       "      <th>2</th>\n",
       "      <td>2</td>\n",
       "      <td>as1</td>\n",
       "      <td>113.0</td>\n",
       "      <td>min</td>\n",
       "      <td>amazon</td>\n",
       "      <td>g</td>\n",
       "      <td>movie</td>\n",
       "      <td>2014</td>\n",
       "      <td>as1</td>\n",
       "      <td>611</td>\n",
       "      <td>3.0</td>\n",
       "    </tr>\n",
       "    <tr>\n",
       "      <th>3</th>\n",
       "      <td>3</td>\n",
       "      <td>as1</td>\n",
       "      <td>113.0</td>\n",
       "      <td>min</td>\n",
       "      <td>amazon</td>\n",
       "      <td>g</td>\n",
       "      <td>movie</td>\n",
       "      <td>2014</td>\n",
       "      <td>as1</td>\n",
       "      <td>2523</td>\n",
       "      <td>3.5</td>\n",
       "    </tr>\n",
       "    <tr>\n",
       "      <th>4</th>\n",
       "      <td>4</td>\n",
       "      <td>as1</td>\n",
       "      <td>113.0</td>\n",
       "      <td>min</td>\n",
       "      <td>amazon</td>\n",
       "      <td>g</td>\n",
       "      <td>movie</td>\n",
       "      <td>2014</td>\n",
       "      <td>as1</td>\n",
       "      <td>3082</td>\n",
       "      <td>4.0</td>\n",
       "    </tr>\n",
       "  </tbody>\n",
       "</table>\n",
       "</div>"
      ],
      "text/plain": [
       "   Unnamed: 0   id  duration_int duration_type platform rating   type  \\\n",
       "0           0  as1         113.0           min   amazon      g  movie   \n",
       "1           1  as1         113.0           min   amazon      g  movie   \n",
       "2           2  as1         113.0           min   amazon      g  movie   \n",
       "3           3  as1         113.0           min   amazon      g  movie   \n",
       "4           4  as1         113.0           min   amazon      g  movie   \n",
       "\n",
       "   release_year movieId  userId  score  \n",
       "0          2014     as1     543    5.0  \n",
       "1          2014     as1     595    3.0  \n",
       "2          2014     as1     611    3.0  \n",
       "3          2014     as1    2523    3.5  \n",
       "4          2014     as1    3082    4.0  "
      ]
     },
     "execution_count": 3,
     "metadata": {},
     "output_type": "execute_result"
    }
   ],
   "source": [
    "df_ML=pd.read_csv('datasets/ML.csv')\n",
    "df_ML.head()"
   ]
  },
  {
   "cell_type": "code",
   "execution_count": 19,
   "metadata": {},
   "outputs": [
    {
     "data": {
      "text/plain": [
       "<Axes: >"
      ]
     },
     "execution_count": 19,
     "metadata": {},
     "output_type": "execute_result"
    },
    {
     "data": {
      "image/png": "[encoded data removed]",
      "text/plain": [
       "<Figure size 2500x1000 with 2 Axes>"
      ]
     },
     "metadata": {},
     "output_type": "display_data"
    }
   ],
   "source": [
    "msno.matrix(df_ML)"
   ]
  },
  {
   "cell_type": "code",
   "execution_count": 4,
   "metadata": {},
   "outputs": [],
   "source": [
    "df_ML['duration_type'].fillna('min', inplace=True)\n",
    "df_ML['duration_int'].fillna(0, inplace=True)"
   ]
  },
  {
   "cell_type": "code",
   "execution_count": 5,
   "metadata": {},
   "outputs": [
    {
     "data": {
      "text/plain": [
       "Unnamed: 0       0\n",
       "id               0\n",
       "duration_int     0\n",
       "duration_type    0\n",
       "platform         0\n",
       "rating           0\n",
       "type             0\n",
       "release_year     0\n",
       "movieId          0\n",
       "userId           0\n",
       "score            0\n",
       "dtype: int64"
      ]
     },
     "execution_count": 5,
     "metadata": {},
     "output_type": "execute_result"
    }
   ],
   "source": [
    "df_ML.isnull().sum()"
   ]
  },
  {
   "cell_type": "code",
   "execution_count": 30,
   "metadata": {},
   "outputs": [
    {
     "data": {
      "text/html": [
       "<div>\n",
       "<style scoped>\n",
       "    .dataframe tbody tr th:only-of-type {\n",
       "        vertical-align: middle;\n",
       "    }\n",
       "\n",
       "    .dataframe tbody tr th {\n",
       "        vertical-align: top;\n",
       "    }\n",
       "\n",
       "    .dataframe thead th {\n",
       "        text-align: right;\n",
       "    }\n",
       "</style>\n",
       "<table border=\"1\" class=\"dataframe\">\n",
       "  <thead>\n",
       "    <tr style=\"text-align: right;\">\n",
       "      <th></th>\n",
       "      <th>Unnamed: 0</th>\n",
       "      <th>id</th>\n",
       "      <th>duration_int</th>\n",
       "      <th>duration_type</th>\n",
       "      <th>platform</th>\n",
       "      <th>rating</th>\n",
       "      <th>type</th>\n",
       "      <th>release_year</th>\n",
       "      <th>movieId</th>\n",
       "      <th>userId</th>\n",
       "      <th>score</th>\n",
       "    </tr>\n",
       "  </thead>\n",
       "  <tbody>\n",
       "  </tbody>\n",
       "</table>\n",
       "</div>"
      ],
      "text/plain": [
       "Empty DataFrame\n",
       "Columns: [Unnamed: 0, id, duration_int, duration_type, platform, rating, type, release_year, movieId, userId, score]\n",
       "Index: []"
      ]
     },
     "execution_count": 30,
     "metadata": {},
     "output_type": "execute_result"
    }
   ],
   "source": [
    "mask= df_ML['score']<0\n",
    "df_ML[mask]"
   ]
  },
  {
   "cell_type": "code",
   "execution_count": 6,
   "metadata": {},
   "outputs": [
    {
     "name": "stdout",
     "output_type": "stream",
     "text": [
      "<class 'pandas.core.frame.DataFrame'>\n",
      "RangeIndex: 11024289 entries, 0 to 11024288\n",
      "Data columns (total 11 columns):\n",
      " #   Column         Dtype  \n",
      "---  ------         -----  \n",
      " 0   Unnamed: 0     int64  \n",
      " 1   id             object \n",
      " 2   duration_int   float64\n",
      " 3   duration_type  object \n",
      " 4   platform       object \n",
      " 5   rating         object \n",
      " 6   type           object \n",
      " 7   release_year   int64  \n",
      " 8   movieId        object \n",
      " 9   userId         int64  \n",
      " 10  score          float64\n",
      "dtypes: float64(2), int64(3), object(6)\n",
      "memory usage: 925.2+ MB\n"
     ]
    }
   ],
   "source": [
    "df_ML.info()"
   ]
  },
  {
   "cell_type": "code",
   "execution_count": 11,
   "metadata": {},
   "outputs": [],
   "source": [
    "df_ML['duration_int']=df_ML['duration_int'].astype('int64')"
   ]
  },
  {
   "attachments": {},
   "cell_type": "markdown",
   "metadata": {},
   "source": [
    "<h1>Modelo de Predicción</h1>"
   ]
  },
  {
   "cell_type": "code",
   "execution_count": 12,
   "metadata": {},
   "outputs": [],
   "source": [
    "from surprise import Dataset, Reader, SVD "
   ]
  },
  {
   "cell_type": "code",
   "execution_count": 14,
   "metadata": {},
   "outputs": [],
   "source": [
    "from surprise.model_selection import train_test_split"
   ]
  },
  {
   "cell_type": "code",
   "execution_count": 114,
   "metadata": {},
   "outputs": [],
   "source": [
    "limit_F = 500000 \n",
    "\n",
    "reader = Reader(rating_scale=(1, 5))\n",
    "\n",
    "data = Dataset.load_from_df(df_ML[['userId', 'movieId', 'score']][:limit_F], reader)\n",
    "\n",
    "trainset, testset = train_test_split(data, test_size=.25)"
   ]
  },
  {
   "cell_type": "code",
   "execution_count": 115,
   "metadata": {},
   "outputs": [
    {
     "data": {
      "text/plain": [
       "<surprise.prediction_algorithms.matrix_factorization.SVD at 0x2b7a7ad4450>"
      ]
     },
     "execution_count": 115,
     "metadata": {},
     "output_type": "execute_result"
    }
   ],
   "source": [
    "modelo = SVD()\n",
    "\n",
    "modelo.fit(trainset)"
   ]
  },
  {
   "cell_type": "code",
   "execution_count": 116,
   "metadata": {},
   "outputs": [
    {
     "data": {
      "text/plain": [
       "Prediction(uid=74945, iid='as370', r_ui=4.0, est=3.661113806539678, details={'was_impossible': False})"
      ]
     },
     "execution_count": 116,
     "metadata": {},
     "output_type": "execute_result"
    }
   ],
   "source": [
    "predictions = modelo.test(testset)\n",
    "\n",
    "predictions[1]"
   ]
  },
  {
   "cell_type": "code",
   "execution_count": 117,
   "metadata": {},
   "outputs": [
    {
     "data": {
      "text/plain": [
       "Prediction(uid=154, iid='as680', r_ui=None, est=3.5274267411556246, details={'was_impossible': False})"
      ]
     },
     "execution_count": 117,
     "metadata": {},
     "output_type": "execute_result"
    }
   ],
   "source": [
    "modelo.predict(154,'as680')"
   ]
  },
  {
   "cell_type": "code",
   "execution_count": 118,
   "metadata": {},
   "outputs": [
    {
     "data": {
      "text/html": [
       "<div>\n",
       "<style scoped>\n",
       "    .dataframe tbody tr th:only-of-type {\n",
       "        vertical-align: middle;\n",
       "    }\n",
       "\n",
       "    .dataframe tbody tr th {\n",
       "        vertical-align: top;\n",
       "    }\n",
       "\n",
       "    .dataframe thead th {\n",
       "        text-align: right;\n",
       "    }\n",
       "</style>\n",
       "<table border=\"1\" class=\"dataframe\">\n",
       "  <thead>\n",
       "    <tr style=\"text-align: right;\">\n",
       "      <th></th>\n",
       "      <th>id</th>\n",
       "      <th>title</th>\n",
       "      <th>score</th>\n",
       "    </tr>\n",
       "  </thead>\n",
       "  <tbody>\n",
       "    <tr>\n",
       "      <th>0</th>\n",
       "      <td>as642</td>\n",
       "      <td>the glory is gone</td>\n",
       "      <td>5.0</td>\n",
       "    </tr>\n",
       "    <tr>\n",
       "      <th>1</th>\n",
       "      <td>as2190</td>\n",
       "      <td>hope lost</td>\n",
       "      <td>4.0</td>\n",
       "    </tr>\n",
       "    <tr>\n",
       "      <th>2</th>\n",
       "      <td>as2386</td>\n",
       "      <td>garfield specials</td>\n",
       "      <td>4.0</td>\n",
       "    </tr>\n",
       "    <tr>\n",
       "      <th>3</th>\n",
       "      <td>as3353</td>\n",
       "      <td>afsos</td>\n",
       "      <td>5.0</td>\n",
       "    </tr>\n",
       "    <tr>\n",
       "      <th>4</th>\n",
       "      <td>as3522</td>\n",
       "      <td>15-minute upper body sculpt 2.0 workout</td>\n",
       "      <td>5.0</td>\n",
       "    </tr>\n",
       "  </tbody>\n",
       "</table>\n",
       "</div>"
      ],
      "text/plain": [
       "       id                                    title  score\n",
       "0   as642                        the glory is gone    5.0\n",
       "1  as2190                                hope lost    4.0\n",
       "2  as2386                        garfield specials    4.0\n",
       "3  as3353                                    afsos    5.0\n",
       "4  as3522  15-minute upper body sculpt 2.0 workout    5.0"
      ]
     },
     "execution_count": 118,
     "metadata": {},
     "output_type": "execute_result"
    }
   ],
   "source": [
    "user = 33829\n",
    "rating = 4   \n",
    "df_user = df_ML[(df_ML.userId == user) & (df_ML.score >= rating)]\n",
    "df_user = df_user.reset_index(drop=True)\n",
    "\n",
    "df_print=pd.read_csv('datasets/plataformas_unique.csv')\n",
    "\n",
    "df_user = pd.merge(df_user, df_print[['id', 'title']], on='id', how='left')\n",
    "df_user[['id', 'title', 'score']].head()"
   ]
  },
  {
   "cell_type": "code",
   "execution_count": 119,
   "metadata": {},
   "outputs": [],
   "source": [
    "df_print = df_print[['id', 'title']]\n",
    "rec_usuario = df_print.iloc[:4499].copy()"
   ]
  },
  {
   "cell_type": "code",
   "execution_count": 120,
   "metadata": {},
   "outputs": [],
   "source": [
    "user_vistas = df_ML[df_ML['userId'] == user]\n",
    "rec_usuario = rec_usuario[~rec_usuario['id'].isin(user_vistas['id'])]"
   ]
  },
  {
   "cell_type": "code",
   "execution_count": 121,
   "metadata": {},
   "outputs": [
    {
     "data": {
      "text/html": [
       "<div>\n",
       "<style scoped>\n",
       "    .dataframe tbody tr th:only-of-type {\n",
       "        vertical-align: middle;\n",
       "    }\n",
       "\n",
       "    .dataframe tbody tr th {\n",
       "        vertical-align: top;\n",
       "    }\n",
       "\n",
       "    .dataframe thead th {\n",
       "        text-align: right;\n",
       "    }\n",
       "</style>\n",
       "<table border=\"1\" class=\"dataframe\">\n",
       "  <thead>\n",
       "    <tr style=\"text-align: right;\">\n",
       "      <th></th>\n",
       "      <th>id</th>\n",
       "      <th>title</th>\n",
       "      <th>Estimate_Score</th>\n",
       "    </tr>\n",
       "  </thead>\n",
       "  <tbody>\n",
       "    <tr>\n",
       "      <th>624</th>\n",
       "      <td>as625</td>\n",
       "      <td>the hero</td>\n",
       "      <td>4.354857</td>\n",
       "    </tr>\n",
       "    <tr>\n",
       "      <th>248</th>\n",
       "      <td>as249</td>\n",
       "      <td>turquoise fever</td>\n",
       "      <td>4.288847</td>\n",
       "    </tr>\n",
       "    <tr>\n",
       "      <th>842</th>\n",
       "      <td>as843</td>\n",
       "      <td>supersize vs superskinny</td>\n",
       "      <td>4.252598</td>\n",
       "    </tr>\n",
       "    <tr>\n",
       "      <th>277</th>\n",
       "      <td>as278</td>\n",
       "      <td>tour balas perdidas en madrid</td>\n",
       "      <td>4.231757</td>\n",
       "    </tr>\n",
       "    <tr>\n",
       "      <th>978</th>\n",
       "      <td>as979</td>\n",
       "      <td>sky racket</td>\n",
       "      <td>4.224168</td>\n",
       "    </tr>\n",
       "    <tr>\n",
       "      <th>192</th>\n",
       "      <td>as193</td>\n",
       "      <td>venky mama</td>\n",
       "      <td>4.209143</td>\n",
       "    </tr>\n",
       "    <tr>\n",
       "      <th>417</th>\n",
       "      <td>as418</td>\n",
       "      <td>the toothbrush family</td>\n",
       "      <td>4.204539</td>\n",
       "    </tr>\n",
       "    <tr>\n",
       "      <th>411</th>\n",
       "      <td>as412</td>\n",
       "      <td>the tunnel</td>\n",
       "      <td>4.177022</td>\n",
       "    </tr>\n",
       "    <tr>\n",
       "      <th>956</th>\n",
       "      <td>as957</td>\n",
       "      <td>so undercover</td>\n",
       "      <td>4.167429</td>\n",
       "    </tr>\n",
       "    <tr>\n",
       "      <th>808</th>\n",
       "      <td>as809</td>\n",
       "      <td>tayo the little bus</td>\n",
       "      <td>4.158496</td>\n",
       "    </tr>\n",
       "  </tbody>\n",
       "</table>\n",
       "</div>"
      ],
      "text/plain": [
       "        id                          title  Estimate_Score\n",
       "624  as625                       the hero        4.354857\n",
       "248  as249                turquoise fever        4.288847\n",
       "842  as843       supersize vs superskinny        4.252598\n",
       "277  as278  tour balas perdidas en madrid        4.231757\n",
       "978  as979                     sky racket        4.224168\n",
       "192  as193                     venky mama        4.209143\n",
       "417  as418          the toothbrush family        4.204539\n",
       "411  as412                     the tunnel        4.177022\n",
       "956  as957                  so undercover        4.167429\n",
       "808  as809            tayo the little bus        4.158496"
      ]
     },
     "execution_count": 121,
     "metadata": {},
     "output_type": "execute_result"
    }
   ],
   "source": [
    "rec_usuario['Estimate_Score'] = rec_usuario['id'].apply(lambda x: modelo.predict(user, x).est)\n",
    "\n",
    "rec_usuario = rec_usuario.sort_values('Estimate_Score', ascending=False)\n",
    "rec_usuario.head(10)"
   ]
  },
  {
   "cell_type": "code",
   "execution_count": 122,
   "metadata": {},
   "outputs": [],
   "source": [
    "def rec_movie(userId, movieId):\n",
    "    \n",
    "    predict = modelo.predict(userId, str(movieId))\n",
    "    \n",
    "    if predict.est >= 3.6:\n",
    "        return \"Recomendada\", predict.est\n",
    "    else:\n",
    "        return \"No recomendada\", predict.est"
   ]
  },
  {
   "cell_type": "code",
   "execution_count": 123,
   "metadata": {},
   "outputs": [
    {
     "data": {
      "text/plain": [
       "('Recomendada', 3.687039377207868)"
      ]
     },
     "execution_count": 123,
     "metadata": {},
     "output_type": "execute_result"
    }
   ],
   "source": [
    "rec_movie(666,'as181')"
   ]
  },
  {
   "cell_type": "code",
   "execution_count": 124,
   "metadata": {},
   "outputs": [
    {
     "data": {
      "text/plain": [
       "('No recomendada', 3.5342933333333333)"
      ]
     },
     "execution_count": 124,
     "metadata": {},
     "output_type": "execute_result"
    }
   ],
   "source": [
    "rec_movie(666,'ns69')"
   ]
  },
  {
   "cell_type": "code",
   "execution_count": 125,
   "metadata": {},
   "outputs": [
    {
     "name": "stdout",
     "output_type": "stream",
     "text": [
      "RMSE: 1.0204\n"
     ]
    },
    {
     "data": {
      "text/plain": [
       "1.020412916031319"
      ]
     },
     "execution_count": 125,
     "metadata": {},
     "output_type": "execute_result"
    }
   ],
   "source": [
    "from surprise import accuracy\n",
    "\n",
    "accuracy.rmse(predictions)"
   ]
  },
  {
   "cell_type": "code",
   "execution_count": 126,
   "metadata": {},
   "outputs": [
    {
     "name": "stdout",
     "output_type": "stream",
     "text": [
      "Evaluating RMSE of algorithm SVD on 4 split(s).\n",
      "\n",
      "                  Fold 1  Fold 2  Fold 3  Fold 4  Mean    Std     \n",
      "RMSE (testset)    1.0021  1.0024  1.0033  1.0016  1.0023  0.0006  \n",
      "Fit time          12.39   12.62   12.41   12.54   12.49   0.09    \n",
      "Test time         12.52   12.38   7.72    8.24    10.22   2.24    \n",
      "Evaluating RMSE of algorithm SVD on 4 split(s).\n",
      "\n",
      "                  Fold 1  Fold 2  Fold 3  Fold 4  Mean    Std     \n",
      "RMSE (testset)    1.0048  1.0018  0.9994  1.0048  1.0027  0.0022  \n",
      "Fit time          11.90   12.47   13.12   12.32   12.45   0.44    \n",
      "Test time         12.62   16.81   13.09   10.60   13.28   2.24    \n",
      "Evaluating RMSE of algorithm SVD on 4 split(s).\n",
      "\n",
      "                  Fold 1  Fold 2  Fold 3  Fold 4  Mean    Std     \n",
      "RMSE (testset)    1.0030  1.0068  1.0015  1.0020  1.0033  0.0021  \n",
      "Fit time          13.36   14.08   14.54   14.47   14.11   0.47    \n",
      "Test time         9.79    8.75    16.53   13.99   12.26   3.15    \n",
      "Evaluating RMSE of algorithm SVD on 4 split(s).\n",
      "\n",
      "                  Fold 1  Fold 2  Fold 3  Fold 4  Mean    Std     \n",
      "RMSE (testset)    1.0038  1.0061  1.0059  1.0007  1.0041  0.0022  \n",
      "Fit time          18.60   14.60   15.02   16.58   16.20   1.57    \n",
      "Test time         14.57   8.28    8.29    12.85   11.00   2.78    \n",
      "Evaluating RMSE of algorithm SVD on 4 split(s).\n",
      "\n",
      "                  Fold 1  Fold 2  Fold 3  Fold 4  Mean    Std     \n",
      "RMSE (testset)    1.0063  1.0083  1.0072  1.0039  1.0064  0.0016  \n",
      "Fit time          15.95   16.26   16.23   19.00   16.86   1.24    \n",
      "Test time         12.91   13.44   8.43    8.81    10.90   2.29    \n",
      "Evaluating RMSE of algorithm SVD on 4 split(s).\n",
      "\n",
      "                  Fold 1  Fold 2  Fold 3  Fold 4  Mean    Std     \n",
      "RMSE (testset)    1.0102  1.0126  1.0099  1.0077  1.0101  0.0018  \n",
      "Fit time          23.41   21.77   23.34   19.37   21.97   1.64    \n",
      "Test time         15.19   18.65   12.95   8.22    13.75   3.79    \n",
      "Evaluating RMSE of algorithm SVD on 4 split(s).\n",
      "\n",
      "                  Fold 1  Fold 2  Fold 3  Fold 4  Mean    Std     \n",
      "RMSE (testset)    1.0145  1.0201  1.0144  1.0157  1.0161  0.0023  \n",
      "Fit time          27.20   28.62   25.61   25.53   26.74   1.27    \n",
      "Test time         8.74    8.91    12.80   12.58   10.76   1.93    \n",
      "Evaluating RMSE of algorithm SVD on 4 split(s).\n",
      "\n",
      "                  Fold 1  Fold 2  Fold 3  Fold 4  Mean    Std     \n",
      "RMSE (testset)    1.0267  1.0248  1.0277  1.0248  1.0260  0.0012  \n",
      "Fit time          38.05   38.91   39.51   38.03   38.63   0.62    \n",
      "Test time         12.98   8.86    8.47    8.37    9.67    1.92    \n"
     ]
    }
   ],
   "source": [
    "from surprise.model_selection import cross_validate\n",
    "import numpy as np\n",
    "\n",
    "rmse_test_means = []\n",
    "factores = [1,2,4,8,16,32,64,128]\n",
    "\n",
    "for factor in factores:\n",
    "    model = SVD(n_factors=factor)\n",
    "    cv = cross_validate(model, data, measures=['RMSE'], cv = 4, verbose=True)\n",
    "    rmse_test_means.append(np.mean(cv['test_rmse']))"
   ]
  },
  {
   "attachments": {},
   "cell_type": "markdown",
   "metadata": {},
   "source": [
    "<h1>Interfaz Gráfica</h1>"
   ]
  },
  {
   "cell_type": "code",
   "execution_count": 131,
   "metadata": {},
   "outputs": [],
   "source": [
    "def rec_movietitle(userId, movieId):\n",
    "    recomendado, puntaje = rec_movie(userId, movieId)\n",
    "    titulo_1 = df_print[df_print.id == movieId].title.iloc[0].title()\n",
    "    return (recomendado, puntaje,titulo_1)"
   ]
  },
  {
   "cell_type": "code",
   "execution_count": 134,
   "metadata": {},
   "outputs": [
    {
     "data": {
      "text/plain": [
       "('Recomendada', 3.744696004612851, 'Sing-Along-Songs For Kids')"
      ]
     },
     "execution_count": 134,
     "metadata": {},
     "output_type": "execute_result"
    }
   ],
   "source": [
    "rec_movietitle(369, 'as992')"
   ]
  },
  {
   "cell_type": "code",
   "execution_count": 135,
   "metadata": {},
   "outputs": [
    {
     "name": "stderr",
     "output_type": "stream",
     "text": [
      "c:\\Users\\yesen\\Desktop\\Henry\\From_Henry\\PI_ML_OPS\\env\\Lib\\site-packages\\tqdm\\auto.py:21: TqdmWarning: IProgress not found. Please update jupyter and ipywidgets. See https://ipywidgets.readthedocs.io/en/stable/user_install.html\n",
      "  from .autonotebook import tqdm as notebook_tqdm\n"
     ]
    }
   ],
   "source": [
    "import gradio as gr"
   ]
  },
  {
   "cell_type": "code",
   "execution_count": 139,
   "metadata": {},
   "outputs": [
    {
     "name": "stderr",
     "output_type": "stream",
     "text": [
      "c:\\Users\\yesen\\Desktop\\Henry\\From_Henry\\PI_ML_OPS\\env\\Lib\\site-packages\\gradio\\inputs.py:59: UserWarning: Usage of gradio.inputs is deprecated, and will not be supported in the future, please import your component from gradio.components\n",
      "  warnings.warn(\n",
      "c:\\Users\\yesen\\Desktop\\Henry\\From_Henry\\PI_ML_OPS\\env\\Lib\\site-packages\\gradio\\deprecation.py:40: UserWarning: `optional` parameter is deprecated, and it has no effect\n",
      "  warnings.warn(value)\n"
     ]
    },
    {
     "name": "stdout",
     "output_type": "stream",
     "text": [
      "Running on local URL:  http://127.0.0.1:7862\n",
      "\n",
      "Could not create share link. Please check your internet connection or our status page: https://status.gradio.app\n"
     ]
    },
    {
     "data": {
      "text/html": [
       "<div><iframe src=\"http://127.0.0.1:7862/\" width=\"100%\" height=\"500\" allow=\"autoplay; camera; microphone; clipboard-read; clipboard-write;\" frameborder=\"0\" allowfullscreen></iframe></div>"
      ],
      "text/plain": [
       "<IPython.core.display.HTML object>"
      ]
     },
     "metadata": {},
     "output_type": "display_data"
    },
    {
     "data": {
      "text/plain": []
     },
     "execution_count": 139,
     "metadata": {},
     "output_type": "execute_result"
    }
   ],
   "source": [
    "title = str(\"Las Mejores Recomendaciones de películas y series\")\n",
    "with gr.Blocks(title=title) as demo:\n",
    "    nro_usuario = gr.inputs.Number(label='Ingrese el número de usuario: ')\n",
    "    peli = gr.Textbox(label='Ingrese el id de la película: ')\n",
    "    recomendacion = gr.Button('PUSH')\n",
    "    title = gr.Textbox(label='La pelicula es: ')\n",
    "    output = gr.Textbox(label= '¿Se la recomendamos? ')\n",
    "    score = gr.Textbox(label='Nivel de afinidad basada en sus gustos(0-5): ')\n",
    "    recomendacion.click(fn = rec_movietitle, inputs=[nro_usuario,peli], outputs=[output, score,title])\n",
    "demo.launch(share = True)"
   ]
  }
 ],
 "metadata": {
  "kernelspec": {
   "display_name": "Python 3",
   "language": "python",
   "name": "python3"
  },
  "language_info": {
   "codemirror_mode": {
    "name": "ipython",
    "version": 3
   },
   "file_extension": ".py",
   "mimetype": "text/x-python",
   "name": "python",
   "nbconvert_exporter": "python",
   "pygments_lexer": "ipython3",
   "version": "3.11.2"
  },
  "orig_nbformat": 4
 },
 "nbformat": 4,
 "nbformat_minor": 2
}
